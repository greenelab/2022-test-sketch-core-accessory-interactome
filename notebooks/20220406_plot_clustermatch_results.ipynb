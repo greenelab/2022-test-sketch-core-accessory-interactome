{
 "cells": [
  {
   "cell_type": "markdown",
   "id": "21c1b662",
   "metadata": {},
   "source": [
    "# Plot clustermatch results\n",
    "\n",
    "The input to clustermatch was k-mer abundances that had been MR-normalized, logged, and filtered to k-mers that were present in at least 50 samples."
   ]
  },
  {
   "cell_type": "code",
   "execution_count": 1,
   "id": "bedc6ece",
   "metadata": {},
   "outputs": [],
   "source": [
    "setwd(\"..\")"
   ]
  },
  {
   "cell_type": "code",
   "execution_count": 2,
   "id": "219266b9",
   "metadata": {},
   "outputs": [],
   "source": [
    "# change default figure size\n",
    "options(repr.plot.width=15, repr.plot.height=7)\n",
    "# disable scientific notation (for plot axes)\n",
    "options(scipen = 999)"
   ]
  },
  {
   "cell_type": "code",
   "execution_count": 4,
   "id": "f169845a",
   "metadata": {},
   "outputs": [],
   "source": [
    "library(readr)\n",
    "library(dplyr)\n",
    "library(tibble)\n",
    "library(tidyr)\n",
    "library(purrr)\n",
    "library(ggplot2)\n",
    "library(data.table)"
   ]
  },
  {
   "cell_type": "markdown",
   "id": "2b57c9f3",
   "metadata": {},
   "source": [
    "## Read in clustermatch results"
   ]
  },
  {
   "cell_type": "code",
   "execution_count": 5,
   "id": "0967f15a",
   "metadata": {},
   "outputs": [],
   "source": [
    "clustermatch <- read_tsv(\"~/Downloads/cm-pa14_mrnorm_hlog_kmers_filt50.tsv\", show_col_types = F)"
   ]
  },
  {
   "cell_type": "code",
   "execution_count": 6,
   "id": "315468b3",
   "metadata": {},
   "outputs": [],
   "source": [
    "clustermatch_long <- melt(as.data.table(clustermatch), id.vars = \"minhash\")"
   ]
  },
  {
   "cell_type": "code",
   "execution_count": 7,
   "id": "3ae0ad9f",
   "metadata": {},
   "outputs": [],
   "source": [
    "clustermatch_long <- clustermatch_long %>%\n",
    "  mutate(variable = as.numeric(as.character(variable))) %>%\n",
    "  filter(minhash != variable)"
   ]
  },
  {
   "cell_type": "code",
   "execution_count": 8,
   "id": "4956e9d3",
   "metadata": {},
   "outputs": [
    {
     "data": {
      "text/html": [
       "<table class=\"dataframe\">\n",
       "<caption>A data.table: 6 × 3</caption>\n",
       "<thead>\n",
       "\t<tr><th scope=col>minhash</th><th scope=col>variable</th><th scope=col>value</th></tr>\n",
       "\t<tr><th scope=col>&lt;dbl&gt;</th><th scope=col>&lt;dbl&gt;</th><th scope=col>&lt;dbl&gt;</th></tr>\n",
       "</thead>\n",
       "<tbody>\n",
       "\t<tr><td> 7037975305246</td><td>6420423175363</td><td>0.33252</td></tr>\n",
       "\t<tr><td> 8687411883152</td><td>6420423175363</td><td>0.33426</td></tr>\n",
       "\t<tr><td>12877586329792</td><td>6420423175363</td><td>0.43772</td></tr>\n",
       "\t<tr><td>18650490225240</td><td>6420423175363</td><td>0.43772</td></tr>\n",
       "\t<tr><td>21174142004736</td><td>6420423175363</td><td>0.44752</td></tr>\n",
       "\t<tr><td>21968976672722</td><td>6420423175363</td><td>0.32021</td></tr>\n",
       "</tbody>\n",
       "</table>\n"
      ],
      "text/latex": [
       "A data.table: 6 × 3\n",
       "\\begin{tabular}{lll}\n",
       " minhash & variable & value\\\\\n",
       " <dbl> & <dbl> & <dbl>\\\\\n",
       "\\hline\n",
       "\t  7037975305246 & 6420423175363 & 0.33252\\\\\n",
       "\t  8687411883152 & 6420423175363 & 0.33426\\\\\n",
       "\t 12877586329792 & 6420423175363 & 0.43772\\\\\n",
       "\t 18650490225240 & 6420423175363 & 0.43772\\\\\n",
       "\t 21174142004736 & 6420423175363 & 0.44752\\\\\n",
       "\t 21968976672722 & 6420423175363 & 0.32021\\\\\n",
       "\\end{tabular}\n"
      ],
      "text/markdown": [
       "\n",
       "A data.table: 6 × 3\n",
       "\n",
       "| minhash &lt;dbl&gt; | variable &lt;dbl&gt; | value &lt;dbl&gt; |\n",
       "|---|---|---|\n",
       "|  7037975305246 | 6420423175363 | 0.33252 |\n",
       "|  8687411883152 | 6420423175363 | 0.33426 |\n",
       "| 12877586329792 | 6420423175363 | 0.43772 |\n",
       "| 18650490225240 | 6420423175363 | 0.43772 |\n",
       "| 21174142004736 | 6420423175363 | 0.44752 |\n",
       "| 21968976672722 | 6420423175363 | 0.32021 |\n",
       "\n"
      ],
      "text/plain": [
       "  minhash        variable      value  \n",
       "1  7037975305246 6420423175363 0.33252\n",
       "2  8687411883152 6420423175363 0.33426\n",
       "3 12877586329792 6420423175363 0.43772\n",
       "4 18650490225240 6420423175363 0.43772\n",
       "5 21174142004736 6420423175363 0.44752\n",
       "6 21968976672722 6420423175363 0.32021"
      ]
     },
     "metadata": {},
     "output_type": "display_data"
    }
   ],
   "source": [
    "head(clustermatch_long)"
   ]
  },
  {
   "cell_type": "markdown",
   "id": "1b657f0e",
   "metadata": {},
   "source": [
    "## Read in hash map and label with operons"
   ]
  },
  {
   "cell_type": "code",
   "execution_count": 9,
   "id": "beda4d73",
   "metadata": {},
   "outputs": [],
   "source": [
    "pa14_hash_map <- read_csv(\"outputs/txomes_sourmash_sketch_singleton/pa14.csv\", show_col_types = F)"
   ]
  },
  {
   "cell_type": "code",
   "execution_count": 10,
   "id": "bcf0640d",
   "metadata": {},
   "outputs": [
    {
     "name": "stderr",
     "output_type": "stream",
     "text": [
      "`curl` package not installed, falling back to using `url()`\n"
     ]
    }
   ],
   "source": [
    "pa14_operons <- read_csv(\"https://raw.githubusercontent.com/greenelab/core-accessory-interactome/master/data/metadata/PA14-operons-2021-07-19.csv\", show_col_types = F)"
   ]
  },
  {
   "cell_type": "code",
   "execution_count": 11,
   "id": "f0a673ef",
   "metadata": {},
   "outputs": [
    {
     "name": "stderr",
     "output_type": "stream",
     "text": [
      "`curl` package not installed, falling back to using `url()`\n"
     ]
    }
   ],
   "source": [
    "pa14_transcript_to_gene <- read_csv(\"https://osf.io/ema5c/download\", skip = 1, col_names = c(\"tmp\", \"transcript_name\", \"locus_tag\"), show_col_types = F) %>%\n",
    "  select(-tmp)"
   ]
  },
  {
   "cell_type": "code",
   "execution_count": 12,
   "id": "00af01bb",
   "metadata": {},
   "outputs": [],
   "source": [
    "pa14_hash_map <- pa14_hash_map %>%\n",
    "  mutate(transcript_name = gsub(\" .*\", \"\", name)) %>%\n",
    "  left_join(pa14_transcript_to_gene, by = \"transcript_name\") %>%\n",
    "  left_join(pa14_operons, by = \"locus_tag\")"
   ]
  },
  {
   "cell_type": "code",
   "execution_count": 13,
   "id": "b454fbdb",
   "metadata": {},
   "outputs": [],
   "source": [
    "pa14_hash_map_operon <- pa14_hash_map %>%\n",
    "  filter(!is.na(`operon-id`))\n",
    "\n",
    "pa14_hash_map_operon_small <- pa14_hash_map_operon %>%\n",
    "  select(minhash, operon_id = `operon-id`) %>%\n",
    "  distinct()"
   ]
  },
  {
   "cell_type": "markdown",
   "id": "226732c6",
   "metadata": {},
   "source": [
    "## Plot results"
   ]
  },
  {
   "cell_type": "code",
   "execution_count": 14,
   "id": "a3e48462",
   "metadata": {},
   "outputs": [],
   "source": [
    "# add operon metadata and plot\n",
    "clustermatch_df <- clustermatch_long %>%\n",
    "  left_join(pa14_hash_map_operon_small, by = c(\"minhash\" = \"minhash\")) %>% # determine which operon, if any, the row is part of\n",
    "  select(minhash, variable, value, operon_id_row = operon_id) %>% # record operon identity of row\n",
    "  left_join(pa14_hash_map_operon_small, by = c(\"variable\" = \"minhash\")) %>% # determine which operon the col is part of\n",
    "  select(minhash, variable, value, operon_id_row, operon_id_col = operon_id) %>% # record operon identity of col\n",
    "  mutate(operon = ifelse(operon_id_row == operon_id_col, \"operon pair\", \"not operon pair\")) %>% # label operon pairs\n",
    "  mutate(operon = ifelse(is.na(operon), \"not operon pair\", operon))"
   ]
  },
  {
   "cell_type": "code",
   "execution_count": 15,
   "id": "0205df32",
   "metadata": {},
   "outputs": [
    {
     "data": {
      "text/html": [
       "<table class=\"dataframe\">\n",
       "<caption>A data.table: 20 × 6</caption>\n",
       "<thead>\n",
       "\t<tr><th scope=col>minhash</th><th scope=col>variable</th><th scope=col>value</th><th scope=col>operon_id_row</th><th scope=col>operon_id_col</th><th scope=col>operon</th></tr>\n",
       "\t<tr><th scope=col>&lt;dbl&gt;</th><th scope=col>&lt;dbl&gt;</th><th scope=col>&lt;dbl&gt;</th><th scope=col>&lt;chr&gt;</th><th scope=col>&lt;chr&gt;</th><th scope=col>&lt;chr&gt;</th></tr>\n",
       "</thead>\n",
       "<tbody>\n",
       "\t<tr><td> 7037975305246</td><td>6420423175363</td><td>0.33252</td><td>operon-9576 </td><td>operon-10084</td><td>not operon pair</td></tr>\n",
       "\t<tr><td> 8687411883152</td><td>6420423175363</td><td>0.33426</td><td>NA          </td><td>operon-10084</td><td>not operon pair</td></tr>\n",
       "\t<tr><td>12877586329792</td><td>6420423175363</td><td>0.43772</td><td>NA          </td><td>operon-10084</td><td>not operon pair</td></tr>\n",
       "\t<tr><td>18650490225240</td><td>6420423175363</td><td>0.43772</td><td>NA          </td><td>operon-10084</td><td>not operon pair</td></tr>\n",
       "\t<tr><td>21174142004736</td><td>6420423175363</td><td>0.44752</td><td>operon-9299 </td><td>operon-10084</td><td>not operon pair</td></tr>\n",
       "\t<tr><td>21174142004736</td><td>6420423175363</td><td>0.44752</td><td>operon-9505 </td><td>operon-10084</td><td>not operon pair</td></tr>\n",
       "\t<tr><td>21968976672722</td><td>6420423175363</td><td>0.32021</td><td>NA          </td><td>operon-10084</td><td>not operon pair</td></tr>\n",
       "\t<tr><td>34281120837322</td><td>6420423175363</td><td>0.37668</td><td>operon-9954 </td><td>operon-10084</td><td>not operon pair</td></tr>\n",
       "\t<tr><td>36978091431750</td><td>6420423175363</td><td>0.45742</td><td>operon-10005</td><td>operon-10084</td><td>not operon pair</td></tr>\n",
       "\t<tr><td>37511667970378</td><td>6420423175363</td><td>0.65413</td><td>operon-9034 </td><td>operon-10084</td><td>not operon pair</td></tr>\n",
       "\t<tr><td>41440392688797</td><td>6420423175363</td><td>0.43772</td><td>NA          </td><td>operon-10084</td><td>not operon pair</td></tr>\n",
       "\t<tr><td>42219378119336</td><td>6420423175363</td><td>0.35442</td><td>NA          </td><td>operon-10084</td><td>not operon pair</td></tr>\n",
       "\t<tr><td>51016350684973</td><td>6420423175363</td><td>0.30375</td><td>NA          </td><td>operon-10084</td><td>not operon pair</td></tr>\n",
       "\t<tr><td>58538094731038</td><td>6420423175363</td><td>0.42803</td><td>operon-10002</td><td>operon-10084</td><td>not operon pair</td></tr>\n",
       "\t<tr><td>61345496411396</td><td>6420423175363</td><td>0.54053</td><td>operon-9920 </td><td>operon-10084</td><td>not operon pair</td></tr>\n",
       "\t<tr><td>65189157058207</td><td>6420423175363</td><td>0.37951</td><td>NA          </td><td>operon-10084</td><td>not operon pair</td></tr>\n",
       "\t<tr><td>70298296909211</td><td>6420423175363</td><td>0.29568</td><td>NA          </td><td>operon-10084</td><td>not operon pair</td></tr>\n",
       "\t<tr><td>74483328973779</td><td>6420423175363</td><td>0.26449</td><td>operon-9089 </td><td>operon-10084</td><td>not operon pair</td></tr>\n",
       "\t<tr><td>74627860329070</td><td>6420423175363</td><td>0.28772</td><td>operon-10080</td><td>operon-10084</td><td>not operon pair</td></tr>\n",
       "\t<tr><td>84318854650337</td><td>6420423175363</td><td>0.33710</td><td>NA          </td><td>operon-10084</td><td>not operon pair</td></tr>\n",
       "</tbody>\n",
       "</table>\n"
      ],
      "text/latex": [
       "A data.table: 20 × 6\n",
       "\\begin{tabular}{llllll}\n",
       " minhash & variable & value & operon\\_id\\_row & operon\\_id\\_col & operon\\\\\n",
       " <dbl> & <dbl> & <dbl> & <chr> & <chr> & <chr>\\\\\n",
       "\\hline\n",
       "\t  7037975305246 & 6420423175363 & 0.33252 & operon-9576  & operon-10084 & not operon pair\\\\\n",
       "\t  8687411883152 & 6420423175363 & 0.33426 & NA           & operon-10084 & not operon pair\\\\\n",
       "\t 12877586329792 & 6420423175363 & 0.43772 & NA           & operon-10084 & not operon pair\\\\\n",
       "\t 18650490225240 & 6420423175363 & 0.43772 & NA           & operon-10084 & not operon pair\\\\\n",
       "\t 21174142004736 & 6420423175363 & 0.44752 & operon-9299  & operon-10084 & not operon pair\\\\\n",
       "\t 21174142004736 & 6420423175363 & 0.44752 & operon-9505  & operon-10084 & not operon pair\\\\\n",
       "\t 21968976672722 & 6420423175363 & 0.32021 & NA           & operon-10084 & not operon pair\\\\\n",
       "\t 34281120837322 & 6420423175363 & 0.37668 & operon-9954  & operon-10084 & not operon pair\\\\\n",
       "\t 36978091431750 & 6420423175363 & 0.45742 & operon-10005 & operon-10084 & not operon pair\\\\\n",
       "\t 37511667970378 & 6420423175363 & 0.65413 & operon-9034  & operon-10084 & not operon pair\\\\\n",
       "\t 41440392688797 & 6420423175363 & 0.43772 & NA           & operon-10084 & not operon pair\\\\\n",
       "\t 42219378119336 & 6420423175363 & 0.35442 & NA           & operon-10084 & not operon pair\\\\\n",
       "\t 51016350684973 & 6420423175363 & 0.30375 & NA           & operon-10084 & not operon pair\\\\\n",
       "\t 58538094731038 & 6420423175363 & 0.42803 & operon-10002 & operon-10084 & not operon pair\\\\\n",
       "\t 61345496411396 & 6420423175363 & 0.54053 & operon-9920  & operon-10084 & not operon pair\\\\\n",
       "\t 65189157058207 & 6420423175363 & 0.37951 & NA           & operon-10084 & not operon pair\\\\\n",
       "\t 70298296909211 & 6420423175363 & 0.29568 & NA           & operon-10084 & not operon pair\\\\\n",
       "\t 74483328973779 & 6420423175363 & 0.26449 & operon-9089  & operon-10084 & not operon pair\\\\\n",
       "\t 74627860329070 & 6420423175363 & 0.28772 & operon-10080 & operon-10084 & not operon pair\\\\\n",
       "\t 84318854650337 & 6420423175363 & 0.33710 & NA           & operon-10084 & not operon pair\\\\\n",
       "\\end{tabular}\n"
      ],
      "text/markdown": [
       "\n",
       "A data.table: 20 × 6\n",
       "\n",
       "| minhash &lt;dbl&gt; | variable &lt;dbl&gt; | value &lt;dbl&gt; | operon_id_row &lt;chr&gt; | operon_id_col &lt;chr&gt; | operon &lt;chr&gt; |\n",
       "|---|---|---|---|---|---|\n",
       "|  7037975305246 | 6420423175363 | 0.33252 | operon-9576  | operon-10084 | not operon pair |\n",
       "|  8687411883152 | 6420423175363 | 0.33426 | NA           | operon-10084 | not operon pair |\n",
       "| 12877586329792 | 6420423175363 | 0.43772 | NA           | operon-10084 | not operon pair |\n",
       "| 18650490225240 | 6420423175363 | 0.43772 | NA           | operon-10084 | not operon pair |\n",
       "| 21174142004736 | 6420423175363 | 0.44752 | operon-9299  | operon-10084 | not operon pair |\n",
       "| 21174142004736 | 6420423175363 | 0.44752 | operon-9505  | operon-10084 | not operon pair |\n",
       "| 21968976672722 | 6420423175363 | 0.32021 | NA           | operon-10084 | not operon pair |\n",
       "| 34281120837322 | 6420423175363 | 0.37668 | operon-9954  | operon-10084 | not operon pair |\n",
       "| 36978091431750 | 6420423175363 | 0.45742 | operon-10005 | operon-10084 | not operon pair |\n",
       "| 37511667970378 | 6420423175363 | 0.65413 | operon-9034  | operon-10084 | not operon pair |\n",
       "| 41440392688797 | 6420423175363 | 0.43772 | NA           | operon-10084 | not operon pair |\n",
       "| 42219378119336 | 6420423175363 | 0.35442 | NA           | operon-10084 | not operon pair |\n",
       "| 51016350684973 | 6420423175363 | 0.30375 | NA           | operon-10084 | not operon pair |\n",
       "| 58538094731038 | 6420423175363 | 0.42803 | operon-10002 | operon-10084 | not operon pair |\n",
       "| 61345496411396 | 6420423175363 | 0.54053 | operon-9920  | operon-10084 | not operon pair |\n",
       "| 65189157058207 | 6420423175363 | 0.37951 | NA           | operon-10084 | not operon pair |\n",
       "| 70298296909211 | 6420423175363 | 0.29568 | NA           | operon-10084 | not operon pair |\n",
       "| 74483328973779 | 6420423175363 | 0.26449 | operon-9089  | operon-10084 | not operon pair |\n",
       "| 74627860329070 | 6420423175363 | 0.28772 | operon-10080 | operon-10084 | not operon pair |\n",
       "| 84318854650337 | 6420423175363 | 0.33710 | NA           | operon-10084 | not operon pair |\n",
       "\n"
      ],
      "text/plain": [
       "   minhash        variable      value   operon_id_row operon_id_col\n",
       "1   7037975305246 6420423175363 0.33252 operon-9576   operon-10084 \n",
       "2   8687411883152 6420423175363 0.33426 NA            operon-10084 \n",
       "3  12877586329792 6420423175363 0.43772 NA            operon-10084 \n",
       "4  18650490225240 6420423175363 0.43772 NA            operon-10084 \n",
       "5  21174142004736 6420423175363 0.44752 operon-9299   operon-10084 \n",
       "6  21174142004736 6420423175363 0.44752 operon-9505   operon-10084 \n",
       "7  21968976672722 6420423175363 0.32021 NA            operon-10084 \n",
       "8  34281120837322 6420423175363 0.37668 operon-9954   operon-10084 \n",
       "9  36978091431750 6420423175363 0.45742 operon-10005  operon-10084 \n",
       "10 37511667970378 6420423175363 0.65413 operon-9034   operon-10084 \n",
       "11 41440392688797 6420423175363 0.43772 NA            operon-10084 \n",
       "12 42219378119336 6420423175363 0.35442 NA            operon-10084 \n",
       "13 51016350684973 6420423175363 0.30375 NA            operon-10084 \n",
       "14 58538094731038 6420423175363 0.42803 operon-10002  operon-10084 \n",
       "15 61345496411396 6420423175363 0.54053 operon-9920   operon-10084 \n",
       "16 65189157058207 6420423175363 0.37951 NA            operon-10084 \n",
       "17 70298296909211 6420423175363 0.29568 NA            operon-10084 \n",
       "18 74483328973779 6420423175363 0.26449 operon-9089   operon-10084 \n",
       "19 74627860329070 6420423175363 0.28772 operon-10080  operon-10084 \n",
       "20 84318854650337 6420423175363 0.33710 NA            operon-10084 \n",
       "   operon         \n",
       "1  not operon pair\n",
       "2  not operon pair\n",
       "3  not operon pair\n",
       "4  not operon pair\n",
       "5  not operon pair\n",
       "6  not operon pair\n",
       "7  not operon pair\n",
       "8  not operon pair\n",
       "9  not operon pair\n",
       "10 not operon pair\n",
       "11 not operon pair\n",
       "12 not operon pair\n",
       "13 not operon pair\n",
       "14 not operon pair\n",
       "15 not operon pair\n",
       "16 not operon pair\n",
       "17 not operon pair\n",
       "18 not operon pair\n",
       "19 not operon pair\n",
       "20 not operon pair"
      ]
     },
     "metadata": {},
     "output_type": "display_data"
    }
   ],
   "source": [
    "head(clustermatch_df, n = 20)"
   ]
  },
  {
   "cell_type": "code",
   "execution_count": 16,
   "id": "2f8dfd32",
   "metadata": {},
   "outputs": [
    {
     "data": {
      "image/png": "[encoded data removed]",
      "text/plain": [
       "plot without title"
      ]
     },
     "metadata": {
      "image/png": {
       "height": 420,
       "width": 900
      }
     },
     "output_type": "display_data"
    }
   ],
   "source": [
    "clustermatch_df$operon <- factor(clustermatch_df$operon, levels = c(\"operon pair\", \"not operon pair\"))\n",
    "ggplot(clustermatch_df, aes(x = value, fill = operon)) +\n",
    "  geom_histogram(bins = 100) +\n",
    "  theme_classic() +\n",
    "  facet_wrap(~operon, scales = \"free\")"
   ]
  },
  {
   "cell_type": "code",
   "execution_count": 20,
   "id": "403356f2",
   "metadata": {},
   "outputs": [
    {
     "data": {
      "text/plain": [
       "\n",
       "not operon pair     operon pair \n",
       "      108759492           14955 "
      ]
     },
     "metadata": {},
     "output_type": "display_data"
    }
   ],
   "source": [
    "table(clustermatch_df$operon)"
   ]
  },
  {
   "cell_type": "code",
   "execution_count": 21,
   "id": "a9cf0ff2",
   "metadata": {},
   "outputs": [
    {
     "data": {
      "text/html": [
       "<table class=\"dataframe\">\n",
       "<caption>A tibble: 2 × 3</caption>\n",
       "<thead>\n",
       "\t<tr><th scope=col>operon</th><th scope=col>mean_value</th><th scope=col>sd_value</th></tr>\n",
       "\t<tr><th scope=col>&lt;chr&gt;</th><th scope=col>&lt;dbl&gt;</th><th scope=col>&lt;dbl&gt;</th></tr>\n",
       "</thead>\n",
       "<tbody>\n",
       "\t<tr><td>not operon pair</td><td>0.3872488</td><td>0.1208564</td></tr>\n",
       "\t<tr><td>operon pair    </td><td>0.4858038</td><td>0.1054895</td></tr>\n",
       "</tbody>\n",
       "</table>\n"
      ],
      "text/latex": [
       "A tibble: 2 × 3\n",
       "\\begin{tabular}{lll}\n",
       " operon & mean\\_value & sd\\_value\\\\\n",
       " <chr> & <dbl> & <dbl>\\\\\n",
       "\\hline\n",
       "\t not operon pair & 0.3872488 & 0.1208564\\\\\n",
       "\t operon pair     & 0.4858038 & 0.1054895\\\\\n",
       "\\end{tabular}\n"
      ],
      "text/markdown": [
       "\n",
       "A tibble: 2 × 3\n",
       "\n",
       "| operon &lt;chr&gt; | mean_value &lt;dbl&gt; | sd_value &lt;dbl&gt; |\n",
       "|---|---|---|\n",
       "| not operon pair | 0.3872488 | 0.1208564 |\n",
       "| operon pair     | 0.4858038 | 0.1054895 |\n",
       "\n"
      ],
      "text/plain": [
       "  operon          mean_value sd_value \n",
       "1 not operon pair 0.3872488  0.1208564\n",
       "2 operon pair     0.4858038  0.1054895"
      ]
     },
     "metadata": {},
     "output_type": "display_data"
    }
   ],
   "source": [
    "clustermatch_df %>% \n",
    "  group_by(operon) %>%\n",
    "  summarize(mean_value = mean(value),\n",
    "            sd_value = sd(value))"
   ]
  },
  {
   "cell_type": "code",
   "execution_count": null,
   "id": "5bcdcd3e",
   "metadata": {},
   "outputs": [],
   "source": []
  }
 ],
 "metadata": {
  "kernelspec": {
   "display_name": "R",
   "language": "R",
   "name": "ir"
  },
  "language_info": {
   "codemirror_mode": "r",
   "file_extension": ".r",
   "mimetype": "text/x-r-source",
   "name": "R",
   "pygments_lexer": "r",
   "version": "4.1.3"
  }
 },
 "nbformat": 4,
 "nbformat_minor": 5
}
