{
 "cells": [
  {
   "cell_type": "markdown",
   "id": "21c1b662",
   "metadata": {},
   "source": [
    "# Plot clustermatch results\n",
    "\n",
    "The input to clustermatch was k-mer abundances that had been MR-normalized, logged, and filtered to k-mers that were present in at least 50 samples."
   ]
  },
  {
   "cell_type": "code",
   "execution_count": 1,
   "id": "bedc6ece",
   "metadata": {},
   "outputs": [],
   "source": [
    "setwd(\"..\")"
   ]
  },
  {
   "cell_type": "code",
   "execution_count": 2,
   "id": "219266b9",
   "metadata": {},
   "outputs": [],
   "source": [
    "# change default figure size\n",
    "options(repr.plot.width=15, repr.plot.height=7)\n",
    "# disable scientific notation (for plot axes)\n",
    "options(scipen = 999)"
   ]
  },
  {
   "cell_type": "code",
   "execution_count": 4,
   "id": "f169845a",
   "metadata": {},
   "outputs": [],
   "source": [
    "library(readr)\n",
    "library(dplyr)\n",
    "library(tibble)\n",
    "library(tidyr)\n",
    "library(purrr)\n",
    "library(ggplot2)"
   ]
  },
  {
   "cell_type": "markdown",
   "id": "2b57c9f3",
   "metadata": {},
   "source": [
    "## Functions"
   ]
  },
  {
   "cell_type": "code",
   "execution_count": 5,
   "id": "82f5c547",
   "metadata": {},
   "outputs": [],
   "source": [
    "# transform the square correlation matrix into long format\n",
    "cor_to_long_cm <- function(m){\n",
    "    #df <- m %>%\n",
    "    #  as.data.frame %>% \n",
    "    #  tibble::rownames_to_column() %>% \n",
    "    #  tidyr::pivot_longer(-rowname) %>%\n",
    "    #  select(row = rowname, col = name, corr = value) %>%\n",
    "    #  filter(row != col)\n",
    "    m <- m %>%\n",
    "      column_to_rownames(\"minhash\")\n",
    "    df <- data.frame(row=rownames(m)[row(m)], col=colnames(m)[col(m)], corr=c(m)) %>%\n",
    "      filter(row != col)\n",
    "    df <- df %>% \n",
    "      mutate(row = as.numeric(row)) %>% # convery minhash back to numeric to perserve joins later\n",
    "      mutate(col = as.numeric(row))\n",
    "} "
   ]
  },
  {
   "cell_type": "code",
   "execution_count": 6,
   "id": "0967f15a",
   "metadata": {},
   "outputs": [],
   "source": [
    "clustermatch <- read_tsv(\"~/Downloads/cm-pa14_mrnorm_hlog_kmers_filt50.tsv\", show_col_types = F)"
   ]
  },
  {
   "cell_type": "code",
   "execution_count": 7,
   "id": "bf85d100",
   "metadata": {},
   "outputs": [
    {
     "data": {
      "text/html": [
       "<table class=\"dataframe\">\n",
       "<caption>A tibble: 5 × 5</caption>\n",
       "<thead>\n",
       "\t<tr><th scope=col>minhash</th><th scope=col>6420423175363</th><th scope=col>7037975305246</th><th scope=col>8687411883152</th><th scope=col>12877586329792</th></tr>\n",
       "\t<tr><th scope=col>&lt;dbl&gt;</th><th scope=col>&lt;dbl&gt;</th><th scope=col>&lt;dbl&gt;</th><th scope=col>&lt;dbl&gt;</th><th scope=col>&lt;dbl&gt;</th></tr>\n",
       "</thead>\n",
       "<tbody>\n",
       "\t<tr><td> 6420423175363</td><td>1.00000</td><td>0.33252</td><td>0.33426</td><td>0.43772</td></tr>\n",
       "\t<tr><td> 7037975305246</td><td>0.33252</td><td>1.00000</td><td>0.47444</td><td>0.20970</td></tr>\n",
       "\t<tr><td> 8687411883152</td><td>0.33426</td><td>0.47444</td><td>1.00000</td><td>0.32522</td></tr>\n",
       "\t<tr><td>12877586329792</td><td>0.43772</td><td>0.20970</td><td>0.32522</td><td>1.00000</td></tr>\n",
       "\t<tr><td>18650490225240</td><td>0.43772</td><td>0.31049</td><td>0.37990</td><td>0.43772</td></tr>\n",
       "</tbody>\n",
       "</table>\n"
      ],
      "text/latex": [
       "A tibble: 5 × 5\n",
       "\\begin{tabular}{lllll}\n",
       " minhash & 6420423175363 & 7037975305246 & 8687411883152 & 12877586329792\\\\\n",
       " <dbl> & <dbl> & <dbl> & <dbl> & <dbl>\\\\\n",
       "\\hline\n",
       "\t  6420423175363 & 1.00000 & 0.33252 & 0.33426 & 0.43772\\\\\n",
       "\t  7037975305246 & 0.33252 & 1.00000 & 0.47444 & 0.20970\\\\\n",
       "\t  8687411883152 & 0.33426 & 0.47444 & 1.00000 & 0.32522\\\\\n",
       "\t 12877586329792 & 0.43772 & 0.20970 & 0.32522 & 1.00000\\\\\n",
       "\t 18650490225240 & 0.43772 & 0.31049 & 0.37990 & 0.43772\\\\\n",
       "\\end{tabular}\n"
      ],
      "text/markdown": [
       "\n",
       "A tibble: 5 × 5\n",
       "\n",
       "| minhash &lt;dbl&gt; | 6420423175363 &lt;dbl&gt; | 7037975305246 &lt;dbl&gt; | 8687411883152 &lt;dbl&gt; | 12877586329792 &lt;dbl&gt; |\n",
       "|---|---|---|---|---|\n",
       "|  6420423175363 | 1.00000 | 0.33252 | 0.33426 | 0.43772 |\n",
       "|  7037975305246 | 0.33252 | 1.00000 | 0.47444 | 0.20970 |\n",
       "|  8687411883152 | 0.33426 | 0.47444 | 1.00000 | 0.32522 |\n",
       "| 12877586329792 | 0.43772 | 0.20970 | 0.32522 | 1.00000 |\n",
       "| 18650490225240 | 0.43772 | 0.31049 | 0.37990 | 0.43772 |\n",
       "\n"
      ],
      "text/plain": [
       "  minhash        6420423175363 7037975305246 8687411883152 12877586329792\n",
       "1  6420423175363 1.00000       0.33252       0.33426       0.43772       \n",
       "2  7037975305246 0.33252       1.00000       0.47444       0.20970       \n",
       "3  8687411883152 0.33426       0.47444       1.00000       0.32522       \n",
       "4 12877586329792 0.43772       0.20970       0.32522       1.00000       \n",
       "5 18650490225240 0.43772       0.31049       0.37990       0.43772       "
      ]
     },
     "metadata": {},
     "output_type": "display_data"
    }
   ],
   "source": [
    "clustermatch[1:5, 1:5]"
   ]
  },
  {
   "cell_type": "markdown",
   "id": "1b657f0e",
   "metadata": {},
   "source": [
    "## Read in hash map and label with operons"
   ]
  },
  {
   "cell_type": "code",
   "execution_count": 8,
   "id": "beda4d73",
   "metadata": {},
   "outputs": [],
   "source": [
    "pa14_hash_map <- read_csv(\"outputs/txomes_sourmash_sketch_singleton/pa14.csv\", show_col_types = F)"
   ]
  },
  {
   "cell_type": "code",
   "execution_count": 9,
   "id": "bcf0640d",
   "metadata": {},
   "outputs": [],
   "source": [
    "pa14_operons <- read_csv(\"https://raw.githubusercontent.com/greenelab/core-accessory-interactome/master/data/metadata/PA14-operons-2021-07-19.csv\", show_col_types = F)"
   ]
  },
  {
   "cell_type": "code",
   "execution_count": 10,
   "id": "f0a673ef",
   "metadata": {},
   "outputs": [],
   "source": [
    "pa14_transcript_to_gene <- read_csv(\"https://osf.io/ema5c/download\", skip = 1, col_names = c(\"tmp\", \"transcript_name\", \"locus_tag\"), show_col_types = F) %>%\n",
    "  select(-tmp)"
   ]
  },
  {
   "cell_type": "code",
   "execution_count": 11,
   "id": "00af01bb",
   "metadata": {},
   "outputs": [],
   "source": [
    "pa14_hash_map <- pa14_hash_map %>%\n",
    "  mutate(transcript_name = gsub(\" .*\", \"\", name)) %>%\n",
    "  left_join(pa14_transcript_to_gene, by = \"transcript_name\") %>%\n",
    "  left_join(pa14_operons, by = \"locus_tag\")"
   ]
  },
  {
   "cell_type": "code",
   "execution_count": 12,
   "id": "b454fbdb",
   "metadata": {},
   "outputs": [],
   "source": [
    "pa14_hash_map_operon <- pa14_hash_map %>%\n",
    "  filter(!is.na(`operon-id`))\n",
    "\n",
    "pa14_hash_map_operon_small <- pa14_hash_map_operon %>%\n",
    "  select(minhash, operon_id = `operon-id`) %>%\n",
    "  distinct()"
   ]
  },
  {
   "cell_type": "markdown",
   "id": "226732c6",
   "metadata": {},
   "source": [
    "## Plot results"
   ]
  },
  {
   "cell_type": "code",
   "execution_count": null,
   "id": "a3e48462",
   "metadata": {},
   "outputs": [],
   "source": [
    "# add operon metadata and plot\n",
    "clustermatch_df <- cor_to_long_cm(clustermatch) %>%\n",
    "  left_join(pa14_hash_map_operon_small, by = c(\"row\" = \"minhash\")) %>% # determine which operon, if any, the row is part of\n",
    "  select(row, col, corr, operon_id_row = operon_id) %>% # record operon identity of row\n",
    "  left_join(pa14_hash_map_operon_small, by = c(\"col\" = \"minhash\")) %>% # determine which operon the col is part of\n",
    "  select(row, col, corr, operon_id_row, operon_id_col = operon_id) %>% # record operon identity of col\n",
    "  mutate(operon = ifelse(operon_id_row == operon_id_col, \"operon pair\", \"not operon pair\")) %>% # label operon pairs\n",
    "  mutate(operon = ifelse(is.na(operon), \"not operon pair\", operon))\n",
    "\n",
    "ggplot(clustermatch_df, aes(x = corr, fill = operon)) +\n",
    "  geom_histogram(alpha = .5) +\n",
    "  theme_classic()"
   ]
  },
  {
   "cell_type": "code",
   "execution_count": null,
   "id": "b7478a2d",
   "metadata": {},
   "outputs": [],
   "source": []
  }
 ],
 "metadata": {
  "kernelspec": {
   "display_name": "R",
   "language": "R",
   "name": "ir"
  },
  "language_info": {
   "codemirror_mode": "r",
   "file_extension": ".r",
   "mimetype": "text/x-r-source",
   "name": "R",
   "pygments_lexer": "r",
   "version": "4.1.3"
  }
 },
 "nbformat": 4,
 "nbformat_minor": 5
}
