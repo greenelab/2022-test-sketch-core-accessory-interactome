{
 "cells": [
  {
   "cell_type": "markdown",
   "id": "288be965",
   "metadata": {},
   "source": [
    "# Make wide k-mer count dataframe\n",
    "\n",
    "Reads in csvs of FracMinHash sketches and converts them into a wide dataframe. This should probably be converted to a snakemake script and be added to the workflow, but will be a notebook for now.\n",
    "\n",
    "Note I know the second one fails from trying to do too many joins with too little RAM. The subsequent notebooks just use PA14, which is a smaller compendium."
   ]
  },
  {
   "cell_type": "code",
   "execution_count": 1,
   "id": "300530ba",
   "metadata": {},
   "outputs": [],
   "source": [
    "setwd(\"..\")"
   ]
  },
  {
   "cell_type": "code",
   "execution_count": 3,
   "id": "1e583e8c",
   "metadata": {},
   "outputs": [],
   "source": [
    "library(readr)\n",
    "library(dplyr)\n",
    "library(tibble)\n",
    "library(tidyr)\n",
    "library(purrr)\n",
    "library(ggplot2)\n",
    "library(ggpubr)\n",
    "library(Seurat)"
   ]
  },
  {
   "cell_type": "markdown",
   "id": "dc3d8573",
   "metadata": {},
   "source": [
    "## PA14"
   ]
  },
  {
   "cell_type": "code",
   "execution_count": 5,
   "id": "9269b27e",
   "metadata": {},
   "outputs": [],
   "source": [
    "# read in metadata\n",
    "metadata <- read_tsv(\"inputs/metadata.tsv\", show_col_types = F)\n",
    "metadata_pa14 <- metadata %>%\n",
    "  dplyr::filter(strain_type == \"PA14\")"
   ]
  },
  {
   "cell_type": "code",
   "execution_count": 6,
   "id": "c1fa74af",
   "metadata": {},
   "outputs": [],
   "source": [
    "# read in k-mer abundances\n",
    "pa14_files <- paste0(\"outputs/srx_sourmash_sketch_filtered_csv/\", metadata_pa14$experiment, \"_k21.csv\")\n",
    "raw_pa14_kmers_long <- pa14_files %>%\n",
    "  purrr::set_names() %>%\n",
    "  purrr::map_dfr(read_csv, skip = 1, col_names = c(\"minhash\", \"abund\"), show_col_types = F, .id = \"sample\") %>%  # read in sketches\n",
    "  dplyr::mutate(sample = gsub(\"_k21\\\\.csv\", \"\", basename(sample)))"
   ]
  },
  {
   "cell_type": "code",
   "execution_count": 8,
   "id": "420d74f1",
   "metadata": {},
   "outputs": [],
   "source": [
    "# pivot from long to wide; shares minhash index\n",
    "raw_pa14_kmers <- raw_pa14_kmers_long %>%\n",
    "  pivot_wider(id_cols = minhash, names_from = sample, values_from = abund) %>%\n",
    "  replace(is.na(.), 0) # replace NAs with zero abund"
   ]
  },
  {
   "cell_type": "code",
   "execution_count": 9,
   "id": "31e1fb8e",
   "metadata": {},
   "outputs": [],
   "source": [
    "write_csv(raw_pa14_kmers, \"outputs/srx_sourmash_sketch_wide_csv/pa14_k21.csv\")"
   ]
  },
  {
   "cell_type": "markdown",
   "id": "a57fa49f",
   "metadata": {},
   "source": [
    "## PAO1"
   ]
  },
  {
   "cell_type": "code",
   "execution_count": 10,
   "id": "f6bb7e93",
   "metadata": {},
   "outputs": [],
   "source": [
    "metadata_pao1 <- metadata %>%\n",
    "  dplyr::filter(strain_type == \"PAO1\")"
   ]
  },
  {
   "cell_type": "code",
   "execution_count": 11,
   "id": "c1c53ae9",
   "metadata": {},
   "outputs": [],
   "source": [
    "# read in k-mer abundances\n",
    "pao1_files <- paste0(\"outputs/srx_sourmash_sketch_filtered_csv/\", metadata_pao1$experiment, \"_k21.csv\")\n",
    "raw_pao1_kmers_long <- pao1_files %>%\n",
    "  purrr::set_names() %>%\n",
    "  purrr::map_dfr(read_csv, skip = 1, col_names = c(\"minhash\", \"abund\"), show_col_types = F, .id = \"sample\") %>%  # read in sketches\n",
    "  dplyr::mutate(sample = gsub(\"_k21\\\\.csv\", \"\", basename(sample)))"
   ]
  },
  {
   "cell_type": "code",
   "execution_count": 12,
   "id": "e72e73d9",
   "metadata": {},
   "outputs": [
    {
     "name": "stderr",
     "output_type": "stream",
     "text": [
      "Warning message in nrow * ncol:\n",
      "“NAs produced by integer overflow”\n"
     ]
    },
    {
     "ename": "ERROR",
     "evalue": "\u001b[1m\u001b[33mError\u001b[39m:\u001b[22m\n\u001b[33m!\u001b[39m Internal error in `compact_rep()`: Negative `n` in `compact_rep()`.\n",
     "output_type": "error",
     "traceback": [
      "\u001b[1m\u001b[33mError\u001b[39m:\u001b[22m\n\u001b[33m!\u001b[39m Internal error in `compact_rep()`: Negative `n` in `compact_rep()`.\nTraceback:\n",
      "1. raw_pao1_kmers_long %>% pivot_wider(id_cols = minhash, names_from = sample, \n .     values_from = abund) %>% replace(is.na(.), 0)",
      "2. replace(., is.na(.), 0)",
      "3. pivot_wider(., id_cols = minhash, names_from = sample, values_from = abund)",
      "4. pivot_wider.data.frame(., id_cols = minhash, names_from = sample, \n .     values_from = abund)",
      "5. pivot_wider_spec(data = data, spec = spec, id_cols = !!id_cols, \n .     id_expand = id_expand, names_repair = names_repair, values_fill = values_fill, \n .     values_fn = values_fn, unused_fn = unused_fn)",
      "6. vec_init(value, nrow * ncol)",
      "7. (function () \n . abort(message = message))()",
      "8. abort(message = message)",
      "9. signal_abort(cnd, .file)"
     ]
    }
   ],
   "source": [
    "# pivot from long to wide; shares minhash index\n",
    "raw_pao1_kmers <- raw_pao1_kmers_long %>%\n",
    "  pivot_wider(id_cols = minhash, names_from = sample, values_from = abund) %>%\n",
    "  replace(is.na(.), 0) # replace NAs with zero abund"
   ]
  },
  {
   "cell_type": "code",
   "execution_count": null,
   "id": "4b2e90f2",
   "metadata": {},
   "outputs": [],
   "source": [
    "write_csv(raw_pao1_kmers, \"outputs/srx_sourmash_sketch_wide_csv/pao1_k21.csv\")"
   ]
  },
  {
   "cell_type": "code",
   "execution_count": null,
   "id": "53d31571",
   "metadata": {},
   "outputs": [],
   "source": []
  }
 ],
 "metadata": {
  "kernelspec": {
   "display_name": "R",
   "language": "R",
   "name": "ir"
  },
  "language_info": {
   "codemirror_mode": "r",
   "file_extension": ".r",
   "mimetype": "text/x-r-source",
   "name": "R",
   "pygments_lexer": "r",
   "version": "4.1.2"
  }
 },
 "nbformat": 4,
 "nbformat_minor": 5
}
